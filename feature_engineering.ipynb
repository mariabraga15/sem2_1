{
 "cells": [
  {
   "cell_type": "markdown",
   "metadata": {},
   "source": [
    "# 📖 Feature Engineering și Selecția Variabilelor în Machine Learning\n",
    "## Scop: Îmbunătățirea performanței modelelor prin transformarea și selecția variabilelor.\n",
    "---\n"
   ]
  },
  {
   "cell_type": "markdown",
   "metadata": {},
   "source": [
    "## 🔍 1. Ce înseamnă feature engineering?\n",
    "**Feature** = variabilă \n",
    "\n",
    "**Engineering** = crearea, transformarea și selecția variabilelor pentru a îmbunătăți capacitatea modelelor de a învăța relațiile corecte dintre variabile"
   ]
  },
  {
   "cell_type": "code",
   "execution_count": 2,
   "metadata": {},
   "outputs": [],
   "source": [
    "#Importare librarii necesare\n",
    "import numpy as np #operatii matematice (medii,abateri standard etc)\n",
    "import pandas as pd #prelucrare tabele\n",
    "#grafice\n",
    "import seaborn as sns \n",
    "import matplotlib.pyplot as plt"
   ]
  },
  {
   "cell_type": "markdown",
   "metadata": {},
   "source": [
    "**Descrierea și preluarea setului de date**\n",
    "\n",
    "Fișierul Housing.csv date despre prețurile locuințelor, incluzând 13 caracteristici relevante:\n",
    "\n",
    "1. **Price**: Prețul locuinței.  \n",
    "2. **Area**: Suprafața totală a locuinței (mp).  \n",
    "3. **Bedrooms**: Numărul de dormitoare.  \n",
    "4. **Bathrooms**: Numărul de băi.  \n",
    "5. **Stories**: Numărul de etaje.  \n",
    "6. **Mainroad**: Conectare la drumul principal (Yes/No).  \n",
    "7. **Guestroom**: Există cameră pentru oaspeți (Yes/No).  \n",
    "8. **Basement**: Locuința are subsol (Yes/No).  \n",
    "9. **Hot water heating**: Sistem de încălzire cu apă caldă (Yes/No).  \n",
    "10. **Airconditioning**: Are aer condiționat (Yes/No).  \n",
    "11. **Parking**: Număr de locuri de parcare.  \n",
    "12. **Prefarea**: Situată într-o zonă preferată (Yes/No).  \n",
    "13. **Furnishing status**: Mobilată complet, parțial sau nemobilată."
   ]
  },
  {
   "cell_type": "code",
   "execution_count": 8,
   "metadata": {},
   "outputs": [
    {
     "data": {
      "text/html": [
       "<div>\n",
       "<style scoped>\n",
       "    .dataframe tbody tr th:only-of-type {\n",
       "        vertical-align: middle;\n",
       "    }\n",
       "\n",
       "    .dataframe tbody tr th {\n",
       "        vertical-align: top;\n",
       "    }\n",
       "\n",
       "    .dataframe thead th {\n",
       "        text-align: right;\n",
       "    }\n",
       "</style>\n",
       "<table border=\"1\" class=\"dataframe\">\n",
       "  <thead>\n",
       "    <tr style=\"text-align: right;\">\n",
       "      <th></th>\n",
       "      <th>price</th>\n",
       "      <th>area</th>\n",
       "      <th>bedrooms</th>\n",
       "      <th>bathrooms</th>\n",
       "      <th>stories</th>\n",
       "      <th>mainroad</th>\n",
       "      <th>guestroom</th>\n",
       "      <th>basement</th>\n",
       "      <th>hotwaterheating</th>\n",
       "      <th>airconditioning</th>\n",
       "      <th>parking</th>\n",
       "      <th>prefarea</th>\n",
       "      <th>furnishingstatus</th>\n",
       "    </tr>\n",
       "  </thead>\n",
       "  <tbody>\n",
       "    <tr>\n",
       "      <th>0</th>\n",
       "      <td>13300000</td>\n",
       "      <td>7420</td>\n",
       "      <td>4</td>\n",
       "      <td>2</td>\n",
       "      <td>3</td>\n",
       "      <td>yes</td>\n",
       "      <td>no</td>\n",
       "      <td>no</td>\n",
       "      <td>no</td>\n",
       "      <td>yes</td>\n",
       "      <td>2</td>\n",
       "      <td>yes</td>\n",
       "      <td>furnished</td>\n",
       "    </tr>\n",
       "    <tr>\n",
       "      <th>1</th>\n",
       "      <td>12250000</td>\n",
       "      <td>8960</td>\n",
       "      <td>4</td>\n",
       "      <td>4</td>\n",
       "      <td>4</td>\n",
       "      <td>yes</td>\n",
       "      <td>no</td>\n",
       "      <td>no</td>\n",
       "      <td>no</td>\n",
       "      <td>yes</td>\n",
       "      <td>3</td>\n",
       "      <td>no</td>\n",
       "      <td>furnished</td>\n",
       "    </tr>\n",
       "    <tr>\n",
       "      <th>2</th>\n",
       "      <td>12250000</td>\n",
       "      <td>9960</td>\n",
       "      <td>3</td>\n",
       "      <td>2</td>\n",
       "      <td>2</td>\n",
       "      <td>yes</td>\n",
       "      <td>no</td>\n",
       "      <td>yes</td>\n",
       "      <td>no</td>\n",
       "      <td>no</td>\n",
       "      <td>2</td>\n",
       "      <td>yes</td>\n",
       "      <td>semi-furnished</td>\n",
       "    </tr>\n",
       "    <tr>\n",
       "      <th>3</th>\n",
       "      <td>12215000</td>\n",
       "      <td>7500</td>\n",
       "      <td>4</td>\n",
       "      <td>2</td>\n",
       "      <td>2</td>\n",
       "      <td>yes</td>\n",
       "      <td>no</td>\n",
       "      <td>yes</td>\n",
       "      <td>no</td>\n",
       "      <td>yes</td>\n",
       "      <td>3</td>\n",
       "      <td>yes</td>\n",
       "      <td>furnished</td>\n",
       "    </tr>\n",
       "    <tr>\n",
       "      <th>4</th>\n",
       "      <td>11410000</td>\n",
       "      <td>7420</td>\n",
       "      <td>4</td>\n",
       "      <td>1</td>\n",
       "      <td>2</td>\n",
       "      <td>yes</td>\n",
       "      <td>yes</td>\n",
       "      <td>yes</td>\n",
       "      <td>no</td>\n",
       "      <td>yes</td>\n",
       "      <td>2</td>\n",
       "      <td>no</td>\n",
       "      <td>furnished</td>\n",
       "    </tr>\n",
       "  </tbody>\n",
       "</table>\n",
       "</div>"
      ],
      "text/plain": [
       "      price  area  bedrooms  bathrooms  stories mainroad guestroom basement  \\\n",
       "0  13300000  7420         4          2        3      yes        no       no   \n",
       "1  12250000  8960         4          4        4      yes        no       no   \n",
       "2  12250000  9960         3          2        2      yes        no      yes   \n",
       "3  12215000  7500         4          2        2      yes        no      yes   \n",
       "4  11410000  7420         4          1        2      yes       yes      yes   \n",
       "\n",
       "  hotwaterheating airconditioning  parking prefarea furnishingstatus  \n",
       "0              no             yes        2      yes        furnished  \n",
       "1              no             yes        3       no        furnished  \n",
       "2              no              no        2      yes   semi-furnished  \n",
       "3              no             yes        3      yes        furnished  \n",
       "4              no             yes        2       no        furnished  "
      ]
     },
     "execution_count": 8,
     "metadata": {},
     "output_type": "execute_result"
    }
   ],
   "source": [
    "#preluare set date\n",
    "df = pd.read_csv(\"./Housing.csv\")\n",
    "df.head()"
   ]
  },
  {
   "cell_type": "markdown",
   "metadata": {},
   "source": [
    "**Valori lipsa**"
   ]
  },
  {
   "cell_type": "code",
   "execution_count": 36,
   "metadata": {},
   "outputs": [
    {
     "data": {
      "text/plain": [
       "price               0\n",
       "area                0\n",
       "bedrooms            0\n",
       "bathrooms           0\n",
       "stories             0\n",
       "mainroad            0\n",
       "guestroom           0\n",
       "basement            0\n",
       "hotwaterheating     0\n",
       "airconditioning     0\n",
       "parking             0\n",
       "prefarea            0\n",
       "furnishingstatus    0\n",
       "dtype: int64"
      ]
     },
     "execution_count": 36,
     "metadata": {},
     "output_type": "execute_result"
    }
   ],
   "source": [
    "df.isnull().sum() #arata cate valori lipsă sunt pt fiecare variabilă"
   ]
  },
  {
   "cell_type": "markdown",
   "metadata": {},
   "source": [
    "### 🔹 1.1. Variabile Derivate\n",
    "Creăm noi variabile din cele existente."
   ]
  },
  {
   "cell_type": "code",
   "execution_count": 42,
   "metadata": {},
   "outputs": [
    {
     "name": "stdout",
     "output_type": "stream",
     "text": [
      "   bedrooms guestroom  total_rooms\n",
      "0         4        no            4\n",
      "1         4        no            4\n",
      "2         3        no            3\n",
      "3         4        no            4\n",
      "4         4       yes            5\n"
     ]
    }
   ],
   "source": [
    "\n",
    "#Am creat o varabila care insumeaza nr de dormitoare + camera de oaspeti pt a calcula nr total de camere\n",
    "df[\"total_rooms\"] = df[\"bedrooms\"] + (df[\"guestroom\"] == \"yes\").astype(int)\n",
    "\n",
    "print(df[[\"bedrooms\", \"guestroom\", \"total_rooms\"]].head())\n",
    "\n",
    "\n"
   ]
  },
  {
   "cell_type": "code",
   "execution_count": 43,
   "metadata": {},
   "outputs": [
    {
     "data": {
      "image/png": "[encoded data removed]",
      "text/plain": [
       "<Figure size 640x480 with 1 Axes>"
      ]
     },
     "metadata": {},
     "output_type": "display_data"
    }
   ],
   "source": [
    "sns.histplot(df[\"price\"], bins=30, kde=True)\n",
    "plt.title(\"Distribuția Prețului cu KDE\")\n",
    "plt.show()"
   ]
  },
  {
   "cell_type": "code",
   "execution_count": null,
   "metadata": {},
   "outputs": [
    {
     "data": {
      "text/html": [
       "<div>\n",
       "<style scoped>\n",
       "    .dataframe tbody tr th:only-of-type {\n",
       "        vertical-align: middle;\n",
       "    }\n",
       "\n",
       "    .dataframe tbody tr th {\n",
       "        vertical-align: top;\n",
       "    }\n",
       "\n",
       "    .dataframe thead th {\n",
       "        text-align: right;\n",
       "    }\n",
       "</style>\n",
       "<table border=\"1\" class=\"dataframe\">\n",
       "  <thead>\n",
       "    <tr style=\"text-align: right;\">\n",
       "      <th></th>\n",
       "      <th>price</th>\n",
       "      <th>log_price</th>\n",
       "    </tr>\n",
       "  </thead>\n",
       "  <tbody>\n",
       "    <tr>\n",
       "      <th>0</th>\n",
       "      <td>13300000</td>\n",
       "      <td>16.403275</td>\n",
       "    </tr>\n",
       "    <tr>\n",
       "      <th>1</th>\n",
       "      <td>12250000</td>\n",
       "      <td>16.321036</td>\n",
       "    </tr>\n",
       "    <tr>\n",
       "      <th>2</th>\n",
       "      <td>12250000</td>\n",
       "      <td>16.321036</td>\n",
       "    </tr>\n",
       "    <tr>\n",
       "      <th>3</th>\n",
       "      <td>12215000</td>\n",
       "      <td>16.318175</td>\n",
       "    </tr>\n",
       "    <tr>\n",
       "      <th>4</th>\n",
       "      <td>11410000</td>\n",
       "      <td>16.250001</td>\n",
       "    </tr>\n",
       "  </tbody>\n",
       "</table>\n",
       "</div>"
      ],
      "text/plain": [
       "      price  log_price\n",
       "0  13300000  16.403275\n",
       "1  12250000  16.321036\n",
       "2  12250000  16.321036\n",
       "3  12215000  16.318175\n",
       "4  11410000  16.250001"
      ]
     },
     "execution_count": 44,
     "metadata": {},
     "output_type": "execute_result"
    }
   ],
   "source": [
    "#transformare logaritmica pe pret            \n",
    "df['log_price'] = np.log(df['price'])\n",
    "df[[\"price\",\"log_price\"]].head()"
   ]
  },
  {
   "cell_type": "code",
   "execution_count": 45,
   "metadata": {},
   "outputs": [
    {
     "data": {
      "image/png": "[encoded data removed]",
      "text/plain": [
       "<Figure size 640x480 with 1 Axes>"
      ]
     },
     "metadata": {},
     "output_type": "display_data"
    }
   ],
   "source": [
    "sns.histplot(df[\"log_price\"], bins=30, kde=True)\n",
    "plt.title(\"Distribuția logaritmului pretului\")\n",
    "plt.show()  "
   ]
  },
  {
   "cell_type": "markdown",
   "metadata": {},
   "source": [
    "### 🔹 1.2. Agregări pentru Variabile Categoriale\n",
    "Calculăm statistici pentru fiecare categorie."
   ]
  },
  {
   "cell_type": "code",
   "execution_count": null,
   "metadata": {},
   "outputs": [
    {
     "data": {
      "text/html": [
       "<div>\n",
       "<style scoped>\n",
       "    .dataframe tbody tr th:only-of-type {\n",
       "        vertical-align: middle;\n",
       "    }\n",
       "\n",
       "    .dataframe tbody tr th {\n",
       "        vertical-align: top;\n",
       "    }\n",
       "\n",
       "    .dataframe thead th {\n",
       "        text-align: right;\n",
       "    }\n",
       "</style>\n",
       "<table border=\"1\" class=\"dataframe\">\n",
       "  <thead>\n",
       "    <tr style=\"text-align: right;\">\n",
       "      <th></th>\n",
       "      <th>furnishingstatus</th>\n",
       "      <th>mean</th>\n",
       "      <th>sum</th>\n",
       "      <th>count</th>\n",
       "    </tr>\n",
       "  </thead>\n",
       "  <tbody>\n",
       "    <tr>\n",
       "      <th>0</th>\n",
       "      <td>furnished</td>\n",
       "      <td>5.495.696,00</td>\n",
       "      <td>769.397.440,00</td>\n",
       "      <td>140,00</td>\n",
       "    </tr>\n",
       "    <tr>\n",
       "      <th>1</th>\n",
       "      <td>semi-furnished</td>\n",
       "      <td>4.907.524,23</td>\n",
       "      <td>1.114.008.000,00</td>\n",
       "      <td>227,00</td>\n",
       "    </tr>\n",
       "    <tr>\n",
       "      <th>2</th>\n",
       "      <td>unfurnished</td>\n",
       "      <td>4.013.831,46</td>\n",
       "      <td>714.462.000,00</td>\n",
       "      <td>178,00</td>\n",
       "    </tr>\n",
       "  </tbody>\n",
       "</table>\n",
       "</div>"
      ],
      "text/plain": [
       "  furnishingstatus          mean               sum   count\n",
       "0        furnished  5.495.696,00    769.397.440,00  140,00\n",
       "1   semi-furnished  4.907.524,23  1.114.008.000,00  227,00\n",
       "2      unfurnished  4.013.831,46    714.462.000,00  178,00"
      ]
     },
     "execution_count": 54,
     "metadata": {},
     "output_type": "execute_result"
    }
   ],
   "source": [
    "df_grouped = df.groupby(\"furnishingstatus\")[\"price\"].agg(['mean', 'sum', 'count']).reset_index()\n",
    "\n",
    "#formatare numere\n",
    "df_grouped = df_grouped.map(lambda x: f\"{x:,.2f}\".replace(',', 'X').replace('.', ',').replace('X', '.') if isinstance(x, (int, float)) else x)\n",
    "\n",
    "df_grouped\n",
    "\n",
    "\n"
   ]
  },
  {
   "cell_type": "markdown",
   "metadata": {},
   "source": [
    "Functie customizata"
   ]
  },
  {
   "cell_type": "code",
   "execution_count": 72,
   "metadata": {},
   "outputs": [
    {
     "data": {
      "text/html": [
       "<div>\n",
       "<style scoped>\n",
       "    .dataframe tbody tr th:only-of-type {\n",
       "        vertical-align: middle;\n",
       "    }\n",
       "\n",
       "    .dataframe tbody tr th {\n",
       "        vertical-align: top;\n",
       "    }\n",
       "\n",
       "    .dataframe thead th {\n",
       "        text-align: right;\n",
       "    }\n",
       "</style>\n",
       "<table border=\"1\" class=\"dataframe\">\n",
       "  <thead>\n",
       "    <tr style=\"text-align: right;\">\n",
       "      <th></th>\n",
       "      <th>furnishingstatus</th>\n",
       "      <th>Variance</th>\n",
       "    </tr>\n",
       "  </thead>\n",
       "  <tbody>\n",
       "    <tr>\n",
       "      <th>0</th>\n",
       "      <td>furnished</td>\n",
       "      <td>2.59</td>\n",
       "    </tr>\n",
       "    <tr>\n",
       "      <th>1</th>\n",
       "      <td>semi-furnished</td>\n",
       "      <td>3.07</td>\n",
       "    </tr>\n",
       "    <tr>\n",
       "      <th>2</th>\n",
       "      <td>unfurnished</td>\n",
       "      <td>2.33</td>\n",
       "    </tr>\n",
       "  </tbody>\n",
       "</table>\n",
       "</div>"
      ],
      "text/plain": [
       "  furnishingstatus  Variance\n",
       "0        furnished      2.59\n",
       "1   semi-furnished      3.07\n",
       "2      unfurnished      2.33"
      ]
     },
     "execution_count": 72,
     "metadata": {},
     "output_type": "execute_result"
    }
   ],
   "source": [
    "def calculate_variance(series):\n",
    "    return series.mean() / series.std() if series.std() != 0 else float('nan')\n",
    "\n",
    "df_variance = df.groupby(\"furnishingstatus\")[\"price\"].agg(calculate_variance).reset_index(name=\"Variance\")\n",
    "\n",
    "\n",
    "df_variance\n"
   ]
  },
  {
   "cell_type": "markdown",
   "metadata": {},
   "source": [
    "### 🔹 1.3. Agregări pentru Variabile Numerice\n",
    "Calculăm statistici pentru fiecare categorie"
   ]
  },
  {
   "cell_type": "code",
   "execution_count": 57,
   "metadata": {},
   "outputs": [
    {
     "data": {
      "text/html": [
       "<div>\n",
       "<style scoped>\n",
       "    .dataframe tbody tr th:only-of-type {\n",
       "        vertical-align: middle;\n",
       "    }\n",
       "\n",
       "    .dataframe tbody tr th {\n",
       "        vertical-align: top;\n",
       "    }\n",
       "\n",
       "    .dataframe thead th {\n",
       "        text-align: right;\n",
       "    }\n",
       "</style>\n",
       "<table border=\"1\" class=\"dataframe\">\n",
       "  <thead>\n",
       "    <tr style=\"text-align: right;\">\n",
       "      <th></th>\n",
       "      <th>price</th>\n",
       "      <th>area</th>\n",
       "      <th>bathrooms</th>\n",
       "      <th>stories</th>\n",
       "      <th>parking</th>\n",
       "    </tr>\n",
       "  </thead>\n",
       "  <tbody>\n",
       "    <tr>\n",
       "      <th>mean</th>\n",
       "      <td>4,766,729.25</td>\n",
       "      <td>5,150.54</td>\n",
       "      <td>1.29</td>\n",
       "      <td>1.81</td>\n",
       "      <td>0.69</td>\n",
       "    </tr>\n",
       "    <tr>\n",
       "      <th>sum</th>\n",
       "      <td>2,597,867,440.00</td>\n",
       "      <td>2,807,045.00</td>\n",
       "      <td>701.00</td>\n",
       "      <td>984.00</td>\n",
       "      <td>378.00</td>\n",
       "    </tr>\n",
       "    <tr>\n",
       "      <th>min</th>\n",
       "      <td>1,750,000.00</td>\n",
       "      <td>1,650.00</td>\n",
       "      <td>1.00</td>\n",
       "      <td>1.00</td>\n",
       "      <td>0.00</td>\n",
       "    </tr>\n",
       "    <tr>\n",
       "      <th>max</th>\n",
       "      <td>13,300,000.00</td>\n",
       "      <td>16,200.00</td>\n",
       "      <td>4.00</td>\n",
       "      <td>4.00</td>\n",
       "      <td>3.00</td>\n",
       "    </tr>\n",
       "  </tbody>\n",
       "</table>\n",
       "</div>"
      ],
      "text/plain": [
       "                price         area  bathrooms  stories  parking\n",
       "mean     4,766,729.25     5,150.54       1.29     1.81     0.69\n",
       "sum  2,597,867,440.00 2,807,045.00     701.00   984.00   378.00\n",
       "min      1,750,000.00     1,650.00       1.00     1.00     0.00\n",
       "max     13,300,000.00    16,200.00       4.00     4.00     3.00"
      ]
     },
     "execution_count": 57,
     "metadata": {},
     "output_type": "execute_result"
    }
   ],
   "source": [
    "numerical_variables = [\"price\",\"area\",\"bathrooms\",\"stories\",\"parking\"]\n",
    "df[numerical_variables].agg(['mean', 'sum', 'min', 'max'])\n"
   ]
  },
  {
   "cell_type": "markdown",
   "metadata": {},
   "source": [
    "Exemplu de functie custom\n"
   ]
  },
  {
   "cell_type": "code",
   "execution_count": null,
   "metadata": {},
   "outputs": [
    {
     "data": {
      "text/html": [
       "<div>\n",
       "<style scoped>\n",
       "    .dataframe tbody tr th:only-of-type {\n",
       "        vertical-align: middle;\n",
       "    }\n",
       "\n",
       "    .dataframe tbody tr th {\n",
       "        vertical-align: top;\n",
       "    }\n",
       "\n",
       "    .dataframe thead th {\n",
       "        text-align: right;\n",
       "    }\n",
       "</style>\n",
       "<table border=\"1\" class=\"dataframe\">\n",
       "  <thead>\n",
       "    <tr style=\"text-align: right;\">\n",
       "      <th></th>\n",
       "      <th>price</th>\n",
       "      <th>area</th>\n",
       "    </tr>\n",
       "  </thead>\n",
       "  <tbody>\n",
       "    <tr>\n",
       "      <th>Mean</th>\n",
       "      <td>4,766,729.25</td>\n",
       "      <td>5,150.54</td>\n",
       "    </tr>\n",
       "    <tr>\n",
       "      <th>Median</th>\n",
       "      <td>4,340,000.00</td>\n",
       "      <td>4,600.00</td>\n",
       "    </tr>\n",
       "    <tr>\n",
       "      <th>Range</th>\n",
       "      <td>11,550,000.00</td>\n",
       "      <td>14,550.00</td>\n",
       "    </tr>\n",
       "    <tr>\n",
       "      <th>IQR</th>\n",
       "      <td>2,310,000.00</td>\n",
       "      <td>2,760.00</td>\n",
       "    </tr>\n",
       "    <tr>\n",
       "      <th>Skewness</th>\n",
       "      <td>1.21</td>\n",
       "      <td>1.32</td>\n",
       "    </tr>\n",
       "    <tr>\n",
       "      <th>Kurtosis</th>\n",
       "      <td>1.96</td>\n",
       "      <td>2.75</td>\n",
       "    </tr>\n",
       "  </tbody>\n",
       "</table>\n",
       "</div>"
      ],
      "text/plain": [
       "                 price      area\n",
       "Mean      4,766,729.25  5,150.54\n",
       "Median    4,340,000.00  4,600.00\n",
       "Range    11,550,000.00 14,550.00\n",
       "IQR       2,310,000.00  2,760.00\n",
       "Skewness          1.21      1.32\n",
       "Kurtosis          1.96      2.75"
      ]
     },
     "execution_count": 59,
     "metadata": {},
     "output_type": "execute_result"
    }
   ],
   "source": [
    "#pt fiecare variabila numerica mentionata se calculeaza statisticile\n",
    "def custom_summary(series):\n",
    "    return pd.Series({\n",
    "        'Mean': series.mean(),\n",
    "        'Median': series.median(),\n",
    "        'Range': series.max() - series.min(),\n",
    "        'IQR': series.quantile(0.75) - series.quantile(0.25),  # Interquartile Range\n",
    "        'Skewness': series.skew(),  # Asimetria distribuției\n",
    "        'Kurtosis': series.kurt()   # Curtosis (aplatisare)\n",
    "    })\n",
    "\n",
    "# apelul este nume_df[[variable]].agg(functie care se executa pe fiecare variabila)\n",
    "\n",
    "df[[\"price\",\"area\"]].agg(custom_summary)"
   ]
  },
  {
   "cell_type": "markdown",
   "metadata": {},
   "source": [
    "### 🔹 1.4 Extragere date temporale\n"
   ]
  },
  {
   "cell_type": "code",
   "execution_count": 3,
   "metadata": {},
   "outputs": [
    {
     "data": {
      "text/html": [
       "<div>\n",
       "<style scoped>\n",
       "    .dataframe tbody tr th:only-of-type {\n",
       "        vertical-align: middle;\n",
       "    }\n",
       "\n",
       "    .dataframe tbody tr th {\n",
       "        vertical-align: top;\n",
       "    }\n",
       "\n",
       "    .dataframe thead th {\n",
       "        text-align: right;\n",
       "    }\n",
       "</style>\n",
       "<table border=\"1\" class=\"dataframe\">\n",
       "  <thead>\n",
       "    <tr style=\"text-align: right;\">\n",
       "      <th></th>\n",
       "      <th>date</th>\n",
       "      <th>year</th>\n",
       "      <th>month</th>\n",
       "      <th>day</th>\n",
       "      <th>day_of_week</th>\n",
       "      <th>is_weekend</th>\n",
       "    </tr>\n",
       "  </thead>\n",
       "  <tbody>\n",
       "    <tr>\n",
       "      <th>0</th>\n",
       "      <td>2023-01-01</td>\n",
       "      <td>2023</td>\n",
       "      <td>1</td>\n",
       "      <td>1</td>\n",
       "      <td>Sunday</td>\n",
       "      <td>True</td>\n",
       "    </tr>\n",
       "    <tr>\n",
       "      <th>1</th>\n",
       "      <td>2023-01-02</td>\n",
       "      <td>2023</td>\n",
       "      <td>1</td>\n",
       "      <td>2</td>\n",
       "      <td>Monday</td>\n",
       "      <td>False</td>\n",
       "    </tr>\n",
       "    <tr>\n",
       "      <th>2</th>\n",
       "      <td>2023-01-03</td>\n",
       "      <td>2023</td>\n",
       "      <td>1</td>\n",
       "      <td>3</td>\n",
       "      <td>Tuesday</td>\n",
       "      <td>False</td>\n",
       "    </tr>\n",
       "    <tr>\n",
       "      <th>3</th>\n",
       "      <td>2023-01-04</td>\n",
       "      <td>2023</td>\n",
       "      <td>1</td>\n",
       "      <td>4</td>\n",
       "      <td>Wednesday</td>\n",
       "      <td>False</td>\n",
       "    </tr>\n",
       "    <tr>\n",
       "      <th>4</th>\n",
       "      <td>2023-01-05</td>\n",
       "      <td>2023</td>\n",
       "      <td>1</td>\n",
       "      <td>5</td>\n",
       "      <td>Thursday</td>\n",
       "      <td>False</td>\n",
       "    </tr>\n",
       "  </tbody>\n",
       "</table>\n",
       "</div>"
      ],
      "text/plain": [
       "        date  year  month  day day_of_week  is_weekend\n",
       "0 2023-01-01  2023      1    1      Sunday        True\n",
       "1 2023-01-02  2023      1    2      Monday       False\n",
       "2 2023-01-03  2023      1    3     Tuesday       False\n",
       "3 2023-01-04  2023      1    4   Wednesday       False\n",
       "4 2023-01-05  2023      1    5    Thursday       False"
      ]
     },
     "execution_count": 3,
     "metadata": {},
     "output_type": "execute_result"
    }
   ],
   "source": [
    "# Creare dataset cu date calendaristice\n",
    "df_date = pd.DataFrame({'date': pd.date_range(start='2023-01-01', periods=5, freq='D')})\n",
    "\n",
    "# Extragere de caracteristici temporale\n",
    "df_date['year'] = df_date['date'].dt.year\n",
    "df_date['month'] = df_date['date'].dt.month\n",
    "df_date['day'] = df_date['date'].dt.day\n",
    "df_date['day_of_week'] = df_date['date'].dt.day_name()\n",
    "df_date['is_weekend'] = df_date['date'].dt.weekday >= 5\n",
    "df_date"
   ]
  },
  {
   "cell_type": "markdown",
   "metadata": {},
   "source": [
    "## ✏️ 2. Selecția Variabilelor"
   ]
  },
  {
   "cell_type": "markdown",
   "metadata": {},
   "source": [
    "\n",
    "\n",
    "\n",
    "| **Etapă** | **Scop** | **Metodă utilizată** |\n",
    "|-----------|---------|---------------------|\n",
    "| **Înțelegerea variabilelor** | Identificarea tipurilor de date | Explorare vizuală și descriptivă |\n",
    "| **Eliminarea variabilelor redundante** | Evitarea colinearității | Matrice de corelație |\n",
    "| **Eliminarea variabilelor cu varianță mică** | Eliminarea celor neinformative | VarianceThreshold |\n",
    "| **Testul relației cu ținta** | Păstrarea variabilelor importante | Test Chi2, ANOVA, f-regression |\n",
    "| **Algoritmi de selecție** | Selectarea celor mai bune variabile | RFE, Random Forest, PCA |\n",
    "\n"
   ]
  },
  {
   "cell_type": "markdown",
   "metadata": {},
   "source": [
    "### 🔹 2.1 Selecția bazată pe corelație"
   ]
  },
  {
   "cell_type": "code",
   "execution_count": 9,
   "metadata": {},
   "outputs": [
    {
     "name": "stdout",
     "output_type": "stream",
     "text": [
      "      price  area  bedrooms  bathrooms  stories  mainroad  guestroom  \\\n",
      "0  13300000  7420         4          2        3         1          0   \n",
      "1  12250000  8960         4          4        4         1          0   \n",
      "2  12250000  9960         3          2        2         1          0   \n",
      "3  12215000  7500         4          2        2         1          0   \n",
      "4  11410000  7420         4          1        2         1          1   \n",
      "\n",
      "   basement  hotwaterheating  airconditioning  parking  prefarea  \\\n",
      "0         0                0                1        2         1   \n",
      "1         0                0                1        3         0   \n",
      "2         1                0                0        2         1   \n",
      "3         1                0                1        3         1   \n",
      "4         1                0                1        2         0   \n",
      "\n",
      "   furnishingstatus_semi-furnished  furnishingstatus_unfurnished  \n",
      "0                            False                         False  \n",
      "1                            False                         False  \n",
      "2                             True                         False  \n",
      "3                            False                         False  \n",
      "4                            False                         False  \n"
     ]
    }
   ],
   "source": [
    "#pentru a realiza matricea de corelatie ar trebui sa codificam variabilele nenumeriuce\n",
    "binary_columns = [\"mainroad\", \"guestroom\", \"basement\", \"hotwaterheating\", \"airconditioning\", \"prefarea\"]\n",
    "for col in binary_columns:\n",
    "    df[col] = df[col].map({'yes': 1, 'no': 0})\n",
    "\n",
    "# Creăm variabile dummy pentru 'furnishingstatus'\n",
    "df = pd.get_dummies(df, columns=[\"furnishingstatus\"], drop_first=True)\n",
    "\n",
    "# Afișăm primele rânduri pentru a verifica transformarea\n",
    "print(df.head())"
   ]
  },
  {
   "cell_type": "code",
   "execution_count": 22,
   "metadata": {},
   "outputs": [
    {
     "data": {
      "image/png": "[encoded data removed]",
      "text/plain": [
       "<Figure size 1000x600 with 2 Axes>"
      ]
     },
     "metadata": {},
     "output_type": "display_data"
    }
   ],
   "source": [
    "var_df = df.drop(columns=[\"price\"])\n",
    "\n",
    "corr_matrix = var_df.corr()\n",
    "plt.figure(figsize=(10, 6))\n",
    "sns.heatmap(corr_matrix, annot=True, cmap=\"coolwarm\", fmt=\".2f\", linewidths=0.5)\n",
    "plt.title(\"Matricea de corelație \")\n",
    "plt.show()"
   ]
  },
  {
   "cell_type": "code",
   "execution_count": null,
   "metadata": {},
   "outputs": [
    {
     "name": "stdout",
     "output_type": "stream",
     "text": [
      "Variabile eliminate: []\n"
     ]
    }
   ],
   "source": [
    "corr_matrix = df.corr().abs()  # Matricea de corelație absolută\n",
    "'''\n",
    "   corr_matrix.where(...) → Păstrează doar valorile care indeplinesc o conditie\n",
    "   np.triu = lasa valorile de deasupra diag principale in rest pune 0\n",
    "   np.ones(corr_matrix.shape) → Creează o matrice de 1 de aceeași dimensiune ca corr_matrix\n",
    "   astype(bool) → Transformă în valori True/False, unde True sunt valorile păstrate\n",
    "   \n",
    "'''\n",
    "upper_triangle = corr_matrix.where(np.triu(np.ones(corr_matrix.shape), k=1).astype(bool))\n",
    "\n",
    "# Elimină variabilele cu o corelație mai mare de 0.8\n",
    "to_drop = [column for column in upper_triangle.columns if any(upper_triangle[column] > 0.8)]\n",
    "df_reduced = df.drop(columns=to_drop)\n",
    "\n",
    "print(f\"Variabile eliminate: {to_drop}\") #nu avem variabile eliminate folosind acest criteriu"
   ]
  },
  {
   "cell_type": "markdown",
   "metadata": {},
   "source": [
    "### 🔹 2.1 Selecția bazată pe testul chi2"
   ]
  },
  {
   "cell_type": "markdown",
   "metadata": {},
   "source": [
    "Se aplică pentru varabilele calitative (selectarea celor relevante) in functie de variabila tinta pe care o vrem "
   ]
  },
  {
   "cell_type": "code",
   "execution_count": 35,
   "metadata": {},
   "outputs": [
    {
     "data": {
      "text/html": [
       "<div>\n",
       "<style scoped>\n",
       "    .dataframe tbody tr th:only-of-type {\n",
       "        vertical-align: middle;\n",
       "    }\n",
       "\n",
       "    .dataframe tbody tr th {\n",
       "        vertical-align: top;\n",
       "    }\n",
       "\n",
       "    .dataframe thead th {\n",
       "        text-align: right;\n",
       "    }\n",
       "</style>\n",
       "<table border=\"1\" class=\"dataframe\">\n",
       "  <thead>\n",
       "    <tr style=\"text-align: right;\">\n",
       "      <th></th>\n",
       "      <th>Feature</th>\n",
       "      <th>Chi2 Score</th>\n",
       "      <th>P-value</th>\n",
       "    </tr>\n",
       "  </thead>\n",
       "  <tbody>\n",
       "    <tr>\n",
       "      <th>1</th>\n",
       "      <td>guestroom</td>\n",
       "      <td>248.497170</td>\n",
       "      <td>0.076489</td>\n",
       "    </tr>\n",
       "    <tr>\n",
       "      <th>3</th>\n",
       "      <td>hotwaterheating</td>\n",
       "      <td>224.404416</td>\n",
       "      <td>0.368579</td>\n",
       "    </tr>\n",
       "    <tr>\n",
       "      <th>5</th>\n",
       "      <td>prefarea</td>\n",
       "      <td>223.948555</td>\n",
       "      <td>0.376686</td>\n",
       "    </tr>\n",
       "    <tr>\n",
       "      <th>4</th>\n",
       "      <td>airconditioning</td>\n",
       "      <td>198.956475</td>\n",
       "      <td>0.818020</td>\n",
       "    </tr>\n",
       "    <tr>\n",
       "      <th>6</th>\n",
       "      <td>furnishingstatus_unfurnished</td>\n",
       "      <td>187.406122</td>\n",
       "      <td>0.934174</td>\n",
       "    </tr>\n",
       "    <tr>\n",
       "      <th>2</th>\n",
       "      <td>basement</td>\n",
       "      <td>171.888472</td>\n",
       "      <td>0.990716</td>\n",
       "    </tr>\n",
       "    <tr>\n",
       "      <th>7</th>\n",
       "      <td>furnishingstatus_semi-furnished</td>\n",
       "      <td>137.837247</td>\n",
       "      <td>0.999995</td>\n",
       "    </tr>\n",
       "    <tr>\n",
       "      <th>0</th>\n",
       "      <td>mainroad</td>\n",
       "      <td>34.408705</td>\n",
       "      <td>1.000000</td>\n",
       "    </tr>\n",
       "  </tbody>\n",
       "</table>\n",
       "</div>"
      ],
      "text/plain": [
       "                           Feature  Chi2 Score   P-value\n",
       "1                        guestroom  248.497170  0.076489\n",
       "3                  hotwaterheating  224.404416  0.368579\n",
       "5                         prefarea  223.948555  0.376686\n",
       "4                  airconditioning  198.956475  0.818020\n",
       "6     furnishingstatus_unfurnished  187.406122  0.934174\n",
       "2                         basement  171.888472  0.990716\n",
       "7  furnishingstatus_semi-furnished  137.837247  0.999995\n",
       "0                         mainroad   34.408705  1.000000"
      ]
     },
     "execution_count": 35,
     "metadata": {},
     "output_type": "execute_result"
    }
   ],
   "source": [
    "from sklearn.feature_selection import chi2\n",
    "categorical_cols = binary_columns +[\"furnishingstatus_unfurnished\",\"furnishingstatus_semi-furnished\"]\n",
    "chi_scores, p_values = chi2(df[categorical_cols], df[\"price\"])\n",
    "chi_results = pd.DataFrame({'Feature': categorical_cols, 'Chi2 Score': chi_scores,\"P-value\":p_values}).sort_values(by=\"Chi2 Score\", ascending=False)\n",
    "chi_results\n"
   ]
  },
  {
   "cell_type": "markdown",
   "metadata": {},
   "source": [
    "### 🔹 2.2. Selecția bazată pe modele de Machine Learning"
   ]
  },
  {
   "cell_type": "markdown",
   "metadata": {},
   "source": [
    "Bun pentru a vedea care variabile au cel mai mare impact asupra prețului"
   ]
  },
  {
   "cell_type": "code",
   "execution_count": null,
   "metadata": {},
   "outputs": [
    {
     "data": {
      "text/html": [
       "<div>\n",
       "<style scoped>\n",
       "    .dataframe tbody tr th:only-of-type {\n",
       "        vertical-align: middle;\n",
       "    }\n",
       "\n",
       "    .dataframe tbody tr th {\n",
       "        vertical-align: top;\n",
       "    }\n",
       "\n",
       "    .dataframe thead th {\n",
       "        text-align: right;\n",
       "    }\n",
       "</style>\n",
       "<table border=\"1\" class=\"dataframe\">\n",
       "  <thead>\n",
       "    <tr style=\"text-align: right;\">\n",
       "      <th></th>\n",
       "      <th>Feature</th>\n",
       "      <th>Importance</th>\n",
       "    </tr>\n",
       "  </thead>\n",
       "  <tbody>\n",
       "    <tr>\n",
       "      <th>0</th>\n",
       "      <td>area</td>\n",
       "      <td>0.481954</td>\n",
       "    </tr>\n",
       "    <tr>\n",
       "      <th>2</th>\n",
       "      <td>bathrooms</td>\n",
       "      <td>0.176754</td>\n",
       "    </tr>\n",
       "    <tr>\n",
       "      <th>9</th>\n",
       "      <td>parking</td>\n",
       "      <td>0.064772</td>\n",
       "    </tr>\n",
       "    <tr>\n",
       "      <th>8</th>\n",
       "      <td>airconditioning</td>\n",
       "      <td>0.054899</td>\n",
       "    </tr>\n",
       "    <tr>\n",
       "      <th>3</th>\n",
       "      <td>stories</td>\n",
       "      <td>0.054778</td>\n",
       "    </tr>\n",
       "    <tr>\n",
       "      <th>1</th>\n",
       "      <td>bedrooms</td>\n",
       "      <td>0.043766</td>\n",
       "    </tr>\n",
       "    <tr>\n",
       "      <th>10</th>\n",
       "      <td>prefarea</td>\n",
       "      <td>0.036778</td>\n",
       "    </tr>\n",
       "    <tr>\n",
       "      <th>6</th>\n",
       "      <td>basement</td>\n",
       "      <td>0.035983</td>\n",
       "    </tr>\n",
       "    <tr>\n",
       "      <th>5</th>\n",
       "      <td>guestroom</td>\n",
       "      <td>0.020908</td>\n",
       "    </tr>\n",
       "    <tr>\n",
       "      <th>7</th>\n",
       "      <td>hotwaterheating</td>\n",
       "      <td>0.019311</td>\n",
       "    </tr>\n",
       "    <tr>\n",
       "      <th>4</th>\n",
       "      <td>mainroad</td>\n",
       "      <td>0.010097</td>\n",
       "    </tr>\n",
       "  </tbody>\n",
       "</table>\n",
       "</div>"
      ],
      "text/plain": [
       "            Feature  Importance\n",
       "0              area    0.481954\n",
       "2         bathrooms    0.176754\n",
       "9           parking    0.064772\n",
       "8   airconditioning    0.054899\n",
       "3           stories    0.054778\n",
       "1          bedrooms    0.043766\n",
       "10         prefarea    0.036778\n",
       "6          basement    0.035983\n",
       "5         guestroom    0.020908\n",
       "7   hotwaterheating    0.019311\n",
       "4          mainroad    0.010097"
      ]
     },
     "execution_count": 37,
     "metadata": {},
     "output_type": "execute_result"
    }
   ],
   "source": [
    "from sklearn.ensemble import RandomForestRegressor\n",
    "\n",
    "# Model pentru importanța variabilelor\n",
    "rf = RandomForestRegressor(n_estimators=100)\n",
    "rf.fit(df.select_dtypes(include='number').drop(columns=[\"price\"]), df[\"price\"])\n",
    "\n",
    "# Importanța variabilelor\n",
    "feature_importance = pd.DataFrame({'Feature': df.select_dtypes(include='number').drop(columns=[\"price\"]).columns,\n",
    "                                   'Importance': rf.feature_importances_}).sort_values(by='Importance', ascending=False)\n",
    "\n",
    "feature_importance\n"
   ]
  },
  {
   "cell_type": "markdown",
   "metadata": {},
   "source": [
    " ### 2.3. Selecția folosind Recursive Feature Elimination (RFE)"
   ]
  },
  {
   "cell_type": "markdown",
   "metadata": {},
   "source": [
    "Dacă vrem să selectăm doar cele mai relevante variabile bazat pe un model (exemplu regresie liniara)"
   ]
  },
  {
   "cell_type": "code",
   "execution_count": 38,
   "metadata": {},
   "outputs": [
    {
     "name": "stdout",
     "output_type": "stream",
     "text": [
      "Variabilele selectate: Index(['bathrooms', 'mainroad', 'hotwaterheating', 'airconditioning',\n",
      "       'prefarea'],\n",
      "      dtype='object')\n"
     ]
    }
   ],
   "source": [
    "from sklearn.feature_selection import RFE\n",
    "from sklearn.linear_model import LinearRegression\n",
    "\n",
    "# Model de bază\n",
    "model = LinearRegression()\n",
    "\n",
    "# Aplicăm RFE pentru selecția variabilelor\n",
    "rfe = RFE(model, n_features_to_select=5)\n",
    "rfe.fit(df.select_dtypes(include='number').drop(columns=[\"price\"]), df[\"price\"])\n",
    "\n",
    "# Afișăm variabilele selectate\n",
    "selected_features = df.select_dtypes(include='number').drop(columns=[\"price\"]).columns[rfe.support_]\n",
    "print(f\"Variabilele selectate: {selected_features}\")\n"
   ]
  },
  {
   "cell_type": "markdown",
   "metadata": {},
   "source": [
    "### 🔹 2.4. Selecția pe bază de statistică descriptivă"
   ]
  },
  {
   "cell_type": "markdown",
   "metadata": {},
   "source": [
    "Eliminarea variabilelor cu varianță mică"
   ]
  },
  {
   "cell_type": "code",
   "execution_count": 43,
   "metadata": {},
   "outputs": [
    {
     "name": "stdout",
     "output_type": "stream",
     "text": [
      "['price' 'area' 'bedrooms' 'bathrooms' 'stories' 'mainroad' 'guestroom'\n",
      " 'basement' 'hotwaterheating' 'airconditioning' 'parking' 'prefarea']\n"
     ]
    }
   ],
   "source": [
    "from sklearn.feature_selection import VarianceThreshold\n",
    "\n",
    "selector = VarianceThreshold(threshold=0.01)  # Elimină variabile cu varianță < 0.01\n",
    "selected_features = selector.fit_transform(df.select_dtypes(include='number'))\n",
    "\n",
    "# Afișează variabilele rămase\n",
    "df_selected = df[df.select_dtypes(include='number').columns[selector.get_support()]]\n",
    "print(df_selected.columns.values)\n"
   ]
  },
  {
   "cell_type": "markdown",
   "metadata": {},
   "source": [
    "### 🔹 2.5. Selecția pe bază de componente principale"
   ]
  },
  {
   "cell_type": "code",
   "execution_count": 51,
   "metadata": {},
   "outputs": [
    {
     "data": {
      "text/html": [
       "<div>\n",
       "<style scoped>\n",
       "    .dataframe tbody tr th:only-of-type {\n",
       "        vertical-align: middle;\n",
       "    }\n",
       "\n",
       "    .dataframe tbody tr th {\n",
       "        vertical-align: top;\n",
       "    }\n",
       "\n",
       "    .dataframe thead th {\n",
       "        text-align: right;\n",
       "    }\n",
       "</style>\n",
       "<table border=\"1\" class=\"dataframe\">\n",
       "  <thead>\n",
       "    <tr style=\"text-align: right;\">\n",
       "      <th></th>\n",
       "      <th>Feature</th>\n",
       "      <th>PCA Importance</th>\n",
       "    </tr>\n",
       "  </thead>\n",
       "  <tbody>\n",
       "    <tr>\n",
       "      <th>1</th>\n",
       "      <td>bedrooms</td>\n",
       "      <td>0.522691</td>\n",
       "    </tr>\n",
       "    <tr>\n",
       "      <th>2</th>\n",
       "      <td>bathrooms</td>\n",
       "      <td>0.515160</td>\n",
       "    </tr>\n",
       "    <tr>\n",
       "      <th>3</th>\n",
       "      <td>stories</td>\n",
       "      <td>0.461884</td>\n",
       "    </tr>\n",
       "    <tr>\n",
       "      <th>0</th>\n",
       "      <td>area</td>\n",
       "      <td>0.364755</td>\n",
       "    </tr>\n",
       "    <tr>\n",
       "      <th>4</th>\n",
       "      <td>parking</td>\n",
       "      <td>0.339149</td>\n",
       "    </tr>\n",
       "  </tbody>\n",
       "</table>\n",
       "</div>"
      ],
      "text/plain": [
       "     Feature  PCA Importance\n",
       "1   bedrooms        0.522691\n",
       "2  bathrooms        0.515160\n",
       "3    stories        0.461884\n",
       "0       area        0.364755\n",
       "4    parking        0.339149"
      ]
     },
     "execution_count": 51,
     "metadata": {},
     "output_type": "execute_result"
    }
   ],
   "source": [
    "from sklearn.decomposition import PCA\n",
    "from sklearn.preprocessing import StandardScaler\n",
    "numerical_variables = [\"area\",\"bedrooms\",\"bathrooms\",\"stories\",\"parking\"]\n",
    "scaler = StandardScaler()\n",
    "df_scaled = scaler.fit_transform(df[numerical_variables])\n",
    "pca = PCA(n_components=len(numerical_variables))  # Număr maxim de componente\n",
    "pca.fit(df_scaled)\n",
    "\n",
    "# Creăm un DataFrame cu importanța variabilelor în prima componentă principală\n",
    "pca_results = pd.DataFrame({\n",
    "    'Feature': numerical_variables,\n",
    "    'PCA Importance': pca.components_[0]  # Prima componentă principală\n",
    "}).sort_values(by='PCA Importance', ascending=False)\n",
    "\n",
    "# Afișăm rezultatele\n",
    "\n",
    "pca_results"
   ]
  }
 ],
 "metadata": {
  "kernelspec": {
   "display_name": "Python 3",
   "language": "python",
   "name": "python3"
  },
  "language_info": {
   "codemirror_mode": {
    "name": "ipython",
    "version": 3
   },
   "file_extension": ".py",
   "mimetype": "text/x-python",
   "name": "python",
   "nbconvert_exporter": "python",
   "pygments_lexer": "ipython3",
   "version": "3.13.1"
  }
 },
 "nbformat": 4,
 "nbformat_minor": 2
}
